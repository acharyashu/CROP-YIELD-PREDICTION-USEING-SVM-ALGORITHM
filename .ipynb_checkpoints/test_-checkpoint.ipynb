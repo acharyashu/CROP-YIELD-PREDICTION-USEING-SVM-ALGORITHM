{
 "cells": [
  {
   "cell_type": "code",
   "execution_count": 1,
   "id": "d4e05d2b-7469-4215-8049-288ae8b365fd",
   "metadata": {},
   "outputs": [
    {
     "name": "stdout",
     "output_type": "stream",
     "text": [
      "Decision Tree Accuracy: 0.10679611650485436\n",
      "Random Forest Accuracy: 0.08737864077669903\n"
     ]
    }
   ],
   "source": [
    "# Step 1: Data Preprocessing\n",
    "import pandas as pd\n",
    "from sklearn.model_selection import train_test_split\n",
    "from sklearn.preprocessing import LabelEncoder\n",
    "\n",
    "# Load the dataset\n",
    "data = pd.read_csv('Dataset.csv')  # Replace 'your_dataset.csv' with your actual file path\n",
    "\n",
    "# Drop non-predictive columns\n",
    "data.drop(['Name', 'Taluk', 'Hobli', 'Village'], axis=1, inplace=True)\n",
    "\n",
    "# Encode categorical variables\n",
    "label_encoder = LabelEncoder()\n",
    "data['Year'] = label_encoder.fit_transform(data['Year'])\n",
    "\n",
    "# Split the data into features and target variable\n",
    "X = data.drop('Yield', axis=1)\n",
    "y = data['Yield']\n",
    "\n",
    "# Split data into training and testing sets\n",
    "X_train, X_test, y_train, y_test = train_test_split(X, y, test_size=0.2, random_state=42)\n",
    "\n",
    "# Step 2: Decision Tree Classifier\n",
    "from sklearn.tree import DecisionTreeClassifier\n",
    "from sklearn.metrics import accuracy_score\n",
    "\n",
    "# Initialize the Decision Tree Classifier\n",
    "dt_classifier = DecisionTreeClassifier(random_state=42)\n",
    "\n",
    "# Train the Decision Tree Classifier\n",
    "dt_classifier.fit(X_train, y_train)\n",
    "\n",
    "# Predict on the testing set\n",
    "dt_predictions = dt_classifier.predict(X_test)\n",
    "\n",
    "# Calculate accuracy\n",
    "dt_accuracy = accuracy_score(y_test, dt_predictions)\n",
    "print(\"Decision Tree Accuracy:\", dt_accuracy)\n",
    "\n",
    "\n",
    " # Step 2: Random Forest Classifier\n",
    "from sklearn.ensemble import RandomForestClassifier\n",
    "\n",
    "# Initialize the Random Forest Classifier\n",
    "rf_classifier = RandomForestClassifier(n_estimators=100, random_state=42)\n",
    "\n",
    "# Train the Random Forest Classifier\n",
    "rf_classifier.fit(X_train, y_train)\n",
    "\n",
    "# Predict on the testing set\n",
    "rf_predictions = rf_classifier.predict(X_test)\n",
    "\n",
    "# Calculate accuracy\n",
    "rf_accuracy = accuracy_score(y_test, rf_predictions)\n",
    "print(\"Random Forest Accuracy:\", rf_accuracy)\n"
   ]
  },
  {
   "cell_type": "code",
   "execution_count": null,
   "id": "a8e9177c-de2e-4915-9935-94683de4006e",
   "metadata": {},
   "outputs": [],
   "source": []
  },
  {
   "cell_type": "code",
   "execution_count": 3,
   "id": "3c4f11e4-4253-4ee1-a4e0-36cdda6513b3",
   "metadata": {},
   "outputs": [
    {
     "ename": "ModuleNotFoundError",
     "evalue": "No module named 'mlxtend'",
     "output_type": "error",
     "traceback": [
      "\u001b[1;31m---------------------------------------------------------------------------\u001b[0m",
      "\u001b[1;31mModuleNotFoundError\u001b[0m                       Traceback (most recent call last)",
      "Cell \u001b[1;32mIn[3], line 2\u001b[0m\n\u001b[0;32m      1\u001b[0m \u001b[38;5;28;01mimport\u001b[39;00m \u001b[38;5;21;01mpandas\u001b[39;00m \u001b[38;5;28;01mas\u001b[39;00m \u001b[38;5;21;01mpd\u001b[39;00m\n\u001b[1;32m----> 2\u001b[0m \u001b[38;5;28;01mfrom\u001b[39;00m \u001b[38;5;21;01mmlxtend\u001b[39;00m\u001b[38;5;21;01m.\u001b[39;00m\u001b[38;5;21;01mfrequent_patterns\u001b[39;00m \u001b[38;5;28;01mimport\u001b[39;00m apriori, association_rules\n\u001b[0;32m      4\u001b[0m \u001b[38;5;66;03m# Sample association_rules_df for demonstration purposes\u001b[39;00m\n\u001b[0;32m      5\u001b[0m \u001b[38;5;66;03m# Replace this with your actual association rules DataFrame\u001b[39;00m\n\u001b[0;32m      6\u001b[0m association_rules_df \u001b[38;5;241m=\u001b[39m pd\u001b[38;5;241m.\u001b[39mDataFrame({\n\u001b[0;32m      7\u001b[0m     \u001b[38;5;124m'\u001b[39m\u001b[38;5;124mantecedents\u001b[39m\u001b[38;5;124m'\u001b[39m: [[\u001b[38;5;124m'\u001b[39m\u001b[38;5;124mTemperature\u001b[39m\u001b[38;5;124m'\u001b[39m, \u001b[38;5;124m'\u001b[39m\u001b[38;5;124mRainfall\u001b[39m\u001b[38;5;124m'\u001b[39m, \u001b[38;5;124m'\u001b[39m\u001b[38;5;124mPH\u001b[39m\u001b[38;5;124m'\u001b[39m, \u001b[38;5;124m'\u001b[39m\u001b[38;5;124mNitrogen\u001b[39m\u001b[38;5;124m'\u001b[39m]],\n\u001b[0;32m      8\u001b[0m     \u001b[38;5;124m'\u001b[39m\u001b[38;5;124mconsequents\u001b[39m\u001b[38;5;124m'\u001b[39m: [\u001b[38;5;241m20.0\u001b[39m],  \u001b[38;5;66;03m# Sample yield prediction\u001b[39;00m\n\u001b[0;32m      9\u001b[0m     \u001b[38;5;124m'\u001b[39m\u001b[38;5;124mconfidence\u001b[39m\u001b[38;5;124m'\u001b[39m: [\u001b[38;5;241m0.8\u001b[39m],    \u001b[38;5;66;03m# Sample confidence value\u001b[39;00m\n\u001b[0;32m     10\u001b[0m     \u001b[38;5;124m'\u001b[39m\u001b[38;5;124msupport\u001b[39m\u001b[38;5;124m'\u001b[39m: [\u001b[38;5;241m0.2\u001b[39m]         \u001b[38;5;66;03m# Sample support value\u001b[39;00m\n\u001b[0;32m     11\u001b[0m })\n",
      "\u001b[1;31mModuleNotFoundError\u001b[0m: No module named 'mlxtend'"
     ]
    }
   ],
   "source": [
    "import pandas as pd\n",
    "from mlxtend.frequent_patterns import apriori, association_rules\n",
    "\n",
    "# Sample association_rules_df for demonstration purposes\n",
    "# Replace this with your actual association rules DataFrame\n",
    "association_rules_df = pd.DataFrame({\n",
    "    'antecedents': [['Temperature', 'Rainfall', 'PH', 'Nitrogen']],\n",
    "    'consequents': [20.0],  # Sample yield prediction\n",
    "    'confidence': [0.8],    # Sample confidence value\n",
    "    'support': [0.2]         # Sample support value\n",
    "})\n",
    "\n",
    "# Input data for prediction\n",
    "input_data = {\n",
    "    'Year': 2018,\n",
    "    'Temperature': 27.5,\n",
    "    'Rainfall': 90.0,\n",
    "    'PH': 6.0,\n",
    "    'Nitrogen': 200.0\n",
    "}\n",
    "\n",
    "# Step 1: Filter Association Rules for Relevant Features\n",
    "relevant_rules = association_rules_df[\n",
    "    (association_rules_df['antecedents'].apply(lambda x: 'Temperature' in x))\n",
    "    & (association_rules_df['antecedents'].apply(lambda x: 'Rainfall' in x))\n",
    "    & (association_rules_df['antecedents'].apply(lambda x: 'PH' in x))\n",
    "    & (association_rules_df['antecedents'].apply(lambda x: 'Nitrogen' in x))\n",
    "]\n",
    "\n",
    "# Step 2: Apply Rules to Input Data\n",
    "filtered_rules = relevant_rules[\n",
    "    relevant_rules['antecedents'].apply(lambda x: all(item in x for item in input_data.keys()))\n",
    "]\n",
    "\n",
    "# Step 3: Aggregate Predictions\n",
    "predicted_yield = filtered_rules['consequents'].mean()\n",
    "\n",
    "print(\"Predicted Yield:\", predicted_yield)\n"
   ]
  }
 ],
 "metadata": {
  "kernelspec": {
   "display_name": "Python 3 (ipykernel)",
   "language": "python",
   "name": "python3"
  },
  "language_info": {
   "codemirror_mode": {
    "name": "ipython",
    "version": 3
   },
   "file_extension": ".py",
   "mimetype": "text/x-python",
   "name": "python",
   "nbconvert_exporter": "python",
   "pygments_lexer": "ipython3",
   "version": "3.8.19"
  }
 },
 "nbformat": 4,
 "nbformat_minor": 5
}
